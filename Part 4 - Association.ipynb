{
 "cells": [
  {
   "cell_type": "markdown",
   "metadata": {},
   "source": [
    "# Initialization"
   ]
  },
  {
   "cell_type": "code",
   "execution_count": 1,
   "metadata": {
    "ExecuteTime": {
     "end_time": "2020-05-01T14:33:14.916523Z",
     "start_time": "2020-05-01T14:33:14.913809Z"
    }
   },
   "outputs": [],
   "source": [
    "# !apt-get install openjdk-8-jdk-headless -qq > /dev/null\n",
    "# !wget --directory-prefix=/content -q http://apache.osuosl.org/spark/spark-2.4.5/spark-2.4.5-bin-hadoop2.7.tgz\n",
    "# !wget --directory-prefix=/content -q http://apache.osuosl.org/spark/spark-2.4.5/spark-2.4.5-bin-hadoop2.7.tgz\n",
    "# !tar xf spark-2.4.5-bin-hadoop2.7.tgz\n",
    "# !pip install -q findspark"
   ]
  },
  {
   "cell_type": "code",
   "execution_count": 2,
   "metadata": {
    "ExecuteTime": {
     "end_time": "2020-05-01T14:33:20.347742Z",
     "start_time": "2020-05-01T14:33:20.344642Z"
    }
   },
   "outputs": [],
   "source": [
    "# import os\n",
    "# import findspark\n",
    "\n",
    "# os.environ[\"JAVA_HOME\"] = \"/usr/lib/jvm/java-8-openjdk-amd64\"\n",
    "# os.environ[\"SPARK_HOME\"] = \"/content/spark-2.4.5-bin-hadoop2.7\"\n",
    "\n",
    "# findspark.init(\"/content/spark-2.4.5-bin-hadoop2.7\")\n",
    "\n",
    "# BASE_URL = \"./drive/My Drive/Colab Notebooks\""
   ]
  },
  {
   "cell_type": "markdown",
   "metadata": {},
   "source": [
    "# Import Packages"
   ]
  },
  {
   "cell_type": "code",
   "execution_count": 3,
   "metadata": {
    "ExecuteTime": {
     "end_time": "2020-05-01T14:33:40.529074Z",
     "start_time": "2020-05-01T14:33:40.430958Z"
    }
   },
   "outputs": [],
   "source": [
    "# Pyspark Packages\n",
    "from pyspark.sql import SparkSession, Window, Row\n",
    "from pyspark import SparkContext\n",
    "from pyspark import SparkConf\n",
    "from pyspark.sql import functions as F, DataFrameReader\n",
    "from pyspark.sql.types import (\n",
    "    StringType,\n",
    "    ArrayType,\n",
    "    IntegerType,\n",
    "    FloatType,\n",
    "    StructType,\n",
    "    StructField,\n",
    "    BooleanType,\n",
    "    MapType,\n",
    "    DateType\n",
    ")"
   ]
  },
  {
   "cell_type": "code",
   "execution_count": 4,
   "metadata": {
    "ExecuteTime": {
     "end_time": "2020-05-01T14:34:01.765389Z",
     "start_time": "2020-05-01T14:34:01.760410Z"
    }
   },
   "outputs": [],
   "source": [
    "def config():\n",
    "\n",
    "    conf = SparkConf()\n",
    "    # COMMON CONFIGURATION\n",
    "    conf.set(\"spark.sql.caseSensitive\", \"true\")\n",
    "    conf.set(\"spark.debug.maxToStringFields\", 200)\n",
    "    conf.set(\"spark.sql.files.ignoreCorruptFiles\", \"true\")\n",
    "    conf.set('spark.sql.session.timeZone', 'Asia/Jakarta')\n",
    "\n",
    "    return conf"
   ]
  },
  {
   "cell_type": "code",
   "execution_count": 5,
   "metadata": {
    "ExecuteTime": {
     "end_time": "2020-05-01T14:34:18.582420Z",
     "start_time": "2020-05-01T14:34:14.138573Z"
    }
   },
   "outputs": [],
   "source": [
    "conf = config()\n",
    "spark = SparkSession \\\n",
    "    .builder \\\n",
    "    .config(conf=conf) \\\n",
    "    .appName(\"EML Batch 9\") \\\n",
    "    .getOrCreate()\n",
    "sc = spark.sparkContext"
   ]
  },
  {
   "cell_type": "markdown",
   "metadata": {},
   "source": [
    "# Read Data"
   ]
  },
  {
   "cell_type": "code",
   "execution_count": 6,
   "metadata": {
    "ExecuteTime": {
     "end_time": "2020-05-01T14:35:08.771015Z",
     "start_time": "2020-05-01T14:35:04.728604Z"
    }
   },
   "outputs": [
    {
     "name": "stdout",
     "output_type": "stream",
     "text": [
      "+------+--------------+----------+---------+--------------+-----------+-----------+---------------+---------------+------------+--------------------+--------+--------+--------+--------+\n",
      "|Row ID|      Order ID|Order Date|Ship Date|     Ship Mode|Customer ID|    Segment|     Product ID|       Category|Sub-Category|        Product Name|   Sales|Quantity|Discount|  Profit|\n",
      "+------+--------------+----------+---------+--------------+-----------+-----------+---------------+---------------+------------+--------------------+--------+--------+--------+--------+\n",
      "|     1|CA-2016-152156|   11/8/16| 11/11/16|  Second Class|   CG-12520|   Consumer|FUR-BO-10001798|      Furniture|   Bookcases|Bush Somerset Col...|  261.96|       2|       0| 41.9136|\n",
      "|     2|CA-2016-152156|   11/8/16| 11/11/16|  Second Class|   CG-12520|   Consumer|FUR-CH-10000454|      Furniture|      Chairs|Hon Deluxe Fabric...|  731.94|       3|       0| 219.582|\n",
      "|     3|CA-2016-138688|   6/12/16|  6/16/16|  Second Class|   DV-13045|  Corporate|OFF-LA-10000240|Office Supplies|      Labels|Self-Adhesive Add...|   14.62|       2|       0|  6.8714|\n",
      "|     4|US-2015-108966|  10/11/15| 10/18/15|Standard Class|   SO-20335|   Consumer|FUR-TA-10000577|      Furniture|      Tables|Bretford CR4500 S...|957.5775|       5|    0.45|-383.031|\n",
      "|     5|US-2015-108966|  10/11/15| 10/18/15|Standard Class|   SO-20335|   Consumer|OFF-ST-10000760|Office Supplies|     Storage|Eldon Fold 'N Rol...|  22.368|       2|     0.2|  2.5164|\n",
      "|     6|CA-2014-115812|    6/9/14|  6/14/14|Standard Class|   BH-11710|   Consumer|FUR-FU-10001487|      Furniture| Furnishings|Eldon Expressions...|   48.86|       7|       0| 14.1694|\n",
      "|     7|CA-2014-115812|    6/9/14|  6/14/14|Standard Class|   BH-11710|   Consumer|OFF-AR-10002833|Office Supplies|         Art|          Newell 322|    7.28|       4|       0|  1.9656|\n",
      "|     8|CA-2014-115812|    6/9/14|  6/14/14|Standard Class|   BH-11710|   Consumer|TEC-PH-10002275|     Technology|      Phones|Mitel 5320 IP Pho...| 907.152|       6|     0.2| 90.7152|\n",
      "|     9|CA-2014-115812|    6/9/14|  6/14/14|Standard Class|   BH-11710|   Consumer|OFF-BI-10003910|Office Supplies|     Binders|DXL Angle-View Bi...|  18.504|       3|     0.2|  5.7825|\n",
      "|    10|CA-2014-115812|    6/9/14|  6/14/14|Standard Class|   BH-11710|   Consumer|OFF-AP-10002892|Office Supplies|  Appliances|Belkin F5C206VTEL...|   114.9|       5|       0|   34.47|\n",
      "|    11|CA-2014-115812|    6/9/14|  6/14/14|Standard Class|   BH-11710|   Consumer|FUR-TA-10001539|      Furniture|      Tables|Chromcraft Rectan...|1706.184|       9|     0.2| 85.3092|\n",
      "|    12|CA-2014-115812|    6/9/14|  6/14/14|Standard Class|   BH-11710|   Consumer|TEC-PH-10002033|     Technology|      Phones|Konftel 250 Confe...| 911.424|       4|     0.2| 68.3568|\n",
      "|    13|CA-2017-114412|   4/15/17|  4/20/17|Standard Class|   AA-10480|   Consumer|OFF-PA-10002365|Office Supplies|       Paper|          Xerox 1967|  15.552|       3|     0.2|  5.4432|\n",
      "|    14|CA-2016-161389|   12/5/16| 12/10/16|Standard Class|   IM-15070|   Consumer|OFF-BI-10003656|Office Supplies|     Binders|Fellowes PB200 Pl...| 407.976|       3|     0.2|132.5922|\n",
      "|    15|US-2015-118983|  11/22/15| 11/26/15|Standard Class|   HP-14815|Home Office|OFF-AP-10002311|Office Supplies|  Appliances|Holmes Replacemen...|   68.81|       5|     0.8|-123.858|\n",
      "|    16|US-2015-118983|  11/22/15| 11/26/15|Standard Class|   HP-14815|Home Office|OFF-BI-10000756|Office Supplies|     Binders|Storex DuraTech R...|   2.544|       3|     0.8|  -3.816|\n",
      "|    17|CA-2014-105893|  11/11/14| 11/18/14|Standard Class|   PK-19075|   Consumer|OFF-ST-10004186|Office Supplies|     Storage|\"Stur-D-Stor Shel...|  665.88|       6|       0| 13.3176|\n",
      "|    18|CA-2014-167164|   5/13/14|  5/15/14|  Second Class|   AG-10270|   Consumer|OFF-ST-10000107|Office Supplies|     Storage|Fellowes Super St...|    55.5|       2|       0|    9.99|\n",
      "|    19|CA-2014-143336|   8/27/14|   9/1/14|  Second Class|   ZD-21925|   Consumer|OFF-AR-10003056|Office Supplies|         Art|          Newell 341|    8.56|       2|       0|  2.4824|\n",
      "|    20|CA-2014-143336|   8/27/14|   9/1/14|  Second Class|   ZD-21925|   Consumer|TEC-PH-10001949|     Technology|      Phones|Cisco SPA 501G IP...|  213.48|       3|     0.2|  16.011|\n",
      "+------+--------------+----------+---------+--------------+-----------+-----------+---------------+---------------+------------+--------------------+--------+--------+--------+--------+\n",
      "only showing top 20 rows\n",
      "\n"
     ]
    }
   ],
   "source": [
    "df = spark.read.csv(f\"/Users/muhammadramadiansyah/Downloads/retail.csv\",inferSchema=True, header =True)\n",
    "df.show()"
   ]
  },
  {
   "cell_type": "code",
   "execution_count": 7,
   "metadata": {
    "ExecuteTime": {
     "end_time": "2020-05-01T14:35:30.843244Z",
     "start_time": "2020-05-01T14:35:28.844346Z"
    }
   },
   "outputs": [
    {
     "name": "stdout",
     "output_type": "stream",
     "text": [
      "+--------------+--------------------+\n",
      "|      Order ID|        Product List|\n",
      "+--------------+--------------------+\n",
      "|CA-2014-114335|[Deflect-o DuraMa...|\n",
      "|CA-2014-120670|[Razer Kraken 7.1...|\n",
      "|CA-2014-141838|[Griffin GC17055 ...|\n",
      "|CA-2015-115798|[Innergie mMini C...|\n",
      "|CA-2015-116750|[Wilson Jones Tur...|\n",
      "|CA-2015-128083|[Eldon Expression...|\n",
      "|CA-2015-144253|[Electrix 20W Hal...|\n",
      "|CA-2015-161830|[BOSTON Model 180...|\n",
      "|CA-2015-166604|[Wausau Papers As...|\n",
      "|CA-2016-124016|[Fellowes Black P...|\n",
      "|CA-2016-134936|[Wilson Jones Cli...|\n",
      "|CA-2016-135776|[Newell 317, Stap...|\n",
      "|CA-2016-145730|[Canon PC170 Desk...|\n",
      "|CA-2016-149223|[Fellowes Basic H...|\n",
      "|CA-2016-149783|[Prismacolor Colo...|\n",
      "|CA-2017-103520|        [Xerox 1899]|\n",
      "|CA-2017-113474|[Multimedia Mailers]|\n",
      "|CA-2017-122994|[Bush Andora Book...|\n",
      "|CA-2017-126221|[Eureka The Boss ...|\n",
      "|CA-2017-132521|[Avery Printable ...|\n",
      "+--------------+--------------------+\n",
      "only showing top 20 rows\n",
      "\n"
     ]
    }
   ],
   "source": [
    "df_filtered = df \\\n",
    "      .dropna(subset=[\"Product ID\"]) \\\n",
    "      .groupBy(\"Order ID\") \\\n",
    "      .agg(F.collect_list(\"Product Name\").alias(\"Product List\")) \\\n",
    "      .withColumn(\"Product List\", F.udf(lambda x: list(set(x)), ArrayType(StringType()))(F.col(\"Product List\")))\n",
    "df_filtered.show()"
   ]
  },
  {
   "cell_type": "markdown",
   "metadata": {},
   "source": [
    "# Modeling"
   ]
  },
  {
   "cell_type": "code",
   "execution_count": 8,
   "metadata": {
    "ExecuteTime": {
     "end_time": "2020-05-01T14:37:01.090640Z",
     "start_time": "2020-05-01T14:36:19.164540Z"
    }
   },
   "outputs": [
    {
     "name": "stdout",
     "output_type": "stream",
     "text": [
      "+--------------------+----+\n",
      "|               items|freq|\n",
      "+--------------------+----+\n",
      "|[Logitech Trackma...|   9|\n",
      "|[Logitech Trackma...|   1|\n",
      "|[Logitech Trackma...|   1|\n",
      "|[Logitech Trackma...|   1|\n",
      "|[Logitech Trackma...|   1|\n",
      "|[Logitech Trackma...|   1|\n",
      "|[Logitech Trackma...|   1|\n",
      "|[Logitech Trackma...|   1|\n",
      "|[Logitech Trackma...|   1|\n",
      "|[Kensington 4 Out...|   7|\n",
      "|[Kensington 4 Out...|   1|\n",
      "|[Kensington 4 Out...|   1|\n",
      "|[Kensington 4 Out...|   1|\n",
      "|[Kensington 4 Out...|   1|\n",
      "|[Kensington 4 Out...|   1|\n",
      "|[Kensington 4 Out...|   1|\n",
      "|[Kensington 4 Out...|   1|\n",
      "|[Kensington 4 Out...|   1|\n",
      "|         [Xerox 210]|   6|\n",
      "|[Xerox 210, Maste...|   1|\n",
      "+--------------------+----+\n",
      "only showing top 20 rows\n",
      "\n",
      "+--------------------+--------------------+----------+------------------+\n",
      "|          antecedent|          consequent|confidence|              lift|\n",
      "+--------------------+--------------------+----------+------------------+\n",
      "|[StarTech.com 10/...|[DAX Black Cherry...|       1.0|           626.125|\n",
      "|[StarTech.com 10/...|        [Xerox 1975]|       1.0|1001.8000000000001|\n",
      "|[\"Executive Impre...|[O'Sullivan 5-She...|       1.0|           1252.25|\n",
      "|[\"Executive Impre...| [Maxell CD-R Discs]|       1.0|1669.6666666666667|\n",
      "|[\"Executive Impre...|[SanDisk Ultra 16...|       1.0| 715.5714285714286|\n",
      "|[Logitech�Wireles...|[Hon Valutask Swi...|       1.0|           1252.25|\n",
      "|[Logitech�Wireles...|[Adams Phone Mess...|       1.0|           626.125|\n",
      "|[Logitech�Wireles...|[Global Leather T...|       1.0|           626.125|\n",
      "|[Logitech�Wireles...|[\"Pressboard Cove...|       1.0| 417.4166666666667|\n",
      "|[Logitech�Wireles...|[Advantus Push Pins]|       1.0| 715.5714285714286|\n",
      "|[Xerox 1962, Aver...|        [Newell 324]|       1.0| 715.5714285714286|\n",
      "|[Xerox 1962, Aver...|[Bush Advantage C...|       1.0| 715.5714285714286|\n",
      "|[Xerox 1962, Aver...|[BIC Brite Liner ...|       1.0|1001.8000000000001|\n",
      "|[Xerox 1962, Aver...|[DAX Cubicle Fram...|       1.0|1001.8000000000001|\n",
      "|[Xerox 1962, Aver...|     [Cisco SPA508G]|       1.0|1001.8000000000001|\n",
      "|[Xerox 1962, Aver...|[WD My Passport U...|       1.0|           626.125|\n",
      "|[Microsoft Natura...|[IBM Multi-Purpos...|       1.0| 834.8333333333334|\n",
      "|[Microsoft Natura...|[Hon Non-Folding ...|       1.0|1001.8000000000001|\n",
      "|[Microsoft Natura...|[Ibico Laser Impr...|       1.0|           626.125|\n",
      "|[Microsoft Natura...|[\"Black Avery Mem...|       1.0|           1252.25|\n",
      "+--------------------+--------------------+----------+------------------+\n",
      "only showing top 20 rows\n",
      "\n",
      "+--------------+--------------------+--------------------+\n",
      "|      Order ID|        Product List|          prediction|\n",
      "+--------------+--------------------+--------------------+\n",
      "|CA-2014-114335|[Deflect-o DuraMa...|[Wirebound Messag...|\n",
      "|CA-2014-120670|[Razer Kraken 7.1...|[Riverside Furnit...|\n",
      "|CA-2014-141838|[Griffin GC17055 ...|[Newell 317, Acco...|\n",
      "|CA-2015-115798|[Innergie mMini C...|[DAX Wood Documen...|\n",
      "|CA-2015-116750|[Wilson Jones Tur...|[Xerox 1977, Xero...|\n",
      "|CA-2015-128083|[Eldon Expression...|[Hunt Boston Vacu...|\n",
      "|CA-2015-144253|[Electrix 20W Hal...|[Easy-staple pape...|\n",
      "|CA-2015-161830|[BOSTON Model 180...|[Xerox 1970, Eldo...|\n",
      "|CA-2015-166604|[Wausau Papers As...|[Wilson SignalBoo...|\n",
      "|CA-2016-124016|[Fellowes Black P...|[BOSTON Model 180...|\n",
      "|CA-2016-134936|[Wilson Jones Cli...|[PureGear Roll-On...|\n",
      "|CA-2016-135776|[Newell 317, Stap...|[DAX Black Cherry...|\n",
      "|CA-2016-145730|[Canon PC170 Desk...|[Personal File Bo...|\n",
      "|CA-2016-149223|[Fellowes Basic H...|[Jabra BIZ 2300 D...|\n",
      "|CA-2016-149783|[Prismacolor Colo...|[Hon Pagoda Stack...|\n",
      "|CA-2017-103520|        [Xerox 1899]|[\"Executive Impre...|\n",
      "|CA-2017-113474|[Multimedia Mailers]|                  []|\n",
      "|CA-2017-122994|[Bush Andora Book...|[Dana Halogen Swi...|\n",
      "|CA-2017-126221|[Eureka The Boss ...|[GBC Plastic Bind...|\n",
      "|CA-2017-132521|[Avery Printable ...|[TRENDnet 56K USB...|\n",
      "+--------------+--------------------+--------------------+\n",
      "only showing top 20 rows\n",
      "\n"
     ]
    }
   ],
   "source": [
    "from pyspark.ml.fpm import FPGrowth\n",
    "\n",
    "fpGrowth = FPGrowth(itemsCol=\"Product List\", minSupport=0.0001, minConfidence=0.0001)\n",
    "model = fpGrowth.fit(df_filtered)\n",
    "\n",
    "# Display frequent itemsets.\n",
    "model.freqItemsets.show()\n",
    "\n",
    "# Display generated association rules.\n",
    "model.associationRules.show()\n",
    "\n",
    "# transform examines the input items against all the association rules and summarize the\n",
    "# consequents as prediction\n",
    "model.transform(df_filtered).show()"
   ]
  },
  {
   "cell_type": "markdown",
   "metadata": {},
   "source": [
    "# Filtered DataFrame"
   ]
  },
  {
   "cell_type": "code",
   "execution_count": 9,
   "metadata": {
    "ExecuteTime": {
     "end_time": "2020-05-01T14:41:00.083513Z",
     "start_time": "2020-05-01T14:40:59.633745Z"
    }
   },
   "outputs": [
    {
     "name": "stdout",
     "output_type": "stream",
     "text": [
      "+--------------+--------------------+--------------------+\n",
      "|      Order ID|   Sub-Category List|   Product Name List|\n",
      "+--------------+--------------------+--------------------+\n",
      "|CA-2014-114335|       [Furnishings]|[Deflect-o DuraMa...|\n",
      "|CA-2014-120670|       [Accessories]|[Razer Kraken 7.1...|\n",
      "|CA-2014-141838|[Phones, Binders,...|[Newell 308, Wils...|\n",
      "|CA-2015-115798|[Bookcases, Phone...|[BlackBerry Q10, ...|\n",
      "|CA-2015-116750|[Binders, Furnish...|[Stackable Trays,...|\n",
      "|CA-2015-128083|[Envelopes, Furni...|[Convenience Pack...|\n",
      "|CA-2015-144253|       [Furnishings]|[Electrix 20W Hal...|\n",
      "|CA-2015-161830|      [Binders, Art]|[BOSTON Model 180...|\n",
      "|CA-2015-166604|         [Envelopes]|[Wausau Papers As...|\n",
      "|CA-2016-124016|[Paper, Binders, ...|[Xerox 1970, Eldo...|\n",
      "|CA-2016-134936|   [Binders, Tables]|[SAFCO PlanMaster...|\n",
      "|CA-2016-135776|[Envelopes, Paper...|[Newell 317, Comp...|\n",
      "|CA-2016-145730|[Machines, Envelo...|[\"Office Impressi...|\n",
      "|CA-2016-149223|        [Appliances]|[Fellowes Basic H...|\n",
      "|CA-2016-149783|[Paper, Appliance...|[\"RSVP Cards & En...|\n",
      "|CA-2017-103520|             [Paper]|        [Xerox 1899]|\n",
      "|CA-2017-113474|         [Envelopes]|[Multimedia Mailers]|\n",
      "|CA-2017-122994|         [Bookcases]|[Bush Andora Book...|\n",
      "|CA-2017-126221|        [Appliances]|[Eureka The Boss ...|\n",
      "|CA-2017-132521|[Appliances, Bind...|[Belkin 8 Outlet ...|\n",
      "+--------------+--------------------+--------------------+\n",
      "only showing top 20 rows\n",
      "\n"
     ]
    }
   ],
   "source": [
    "df_filtered = df \\\n",
    "      .dropna(subset=[\"Product ID\"]) \\\n",
    "      .groupBy(\"Order ID\") \\\n",
    "      .agg(\n",
    "          F.collect_list(\"Sub-Category\").alias(\"Sub-Category List\"),\n",
    "          F.collect_list(\"Product Name\").alias(\"Product Name List\")\n",
    "        ) \\\n",
    "      .withColumn(\"Sub-Category List\", F.udf(lambda x: list(set(x)), ArrayType(StringType()))(F.col(\"Sub-Category List\")))\n",
    "df_filtered.show()"
   ]
  },
  {
   "cell_type": "code",
   "execution_count": 10,
   "metadata": {
    "ExecuteTime": {
     "end_time": "2020-05-01T14:41:18.212658Z",
     "start_time": "2020-05-01T14:41:09.564311Z"
    }
   },
   "outputs": [
    {
     "name": "stdout",
     "output_type": "stream",
     "text": [
      "+--------------------+----+\n",
      "|               items|freq|\n",
      "+--------------------+----+\n",
      "|           [Binders]|1316|\n",
      "|             [Paper]|1191|\n",
      "|    [Paper, Binders]| 275|\n",
      "|       [Furnishings]| 877|\n",
      "|[Furnishings, Paper]| 177|\n",
      "|[Furnishings, Pap...|  51|\n",
      "|[Furnishings, Bin...| 198|\n",
      "|            [Phones]| 814|\n",
      "|[Phones, Furnishi...| 148|\n",
      "|[Phones, Furnishi...|  42|\n",
      "|[Phones, Furnishi...|  11|\n",
      "|[Phones, Furnishi...|  40|\n",
      "|     [Phones, Paper]| 175|\n",
      "|[Phones, Paper, B...|  54|\n",
      "|   [Phones, Binders]| 199|\n",
      "|           [Storage]| 777|\n",
      "|[Storage, Furnish...| 138|\n",
      "|[Storage, Furnish...|  46|\n",
      "|[Storage, Furnish...|  13|\n",
      "|[Storage, Furnish...|  48|\n",
      "+--------------------+----+\n",
      "only showing top 20 rows\n",
      "\n",
      "+--------------------+-------------+-------------------+------------------+\n",
      "|          antecedent|   consequent|         confidence|              lift|\n",
      "+--------------------+-------------+-------------------+------------------+\n",
      "|[Accessories, Sto...|      [Paper]| 0.4090909090909091|1.7205175177467371|\n",
      "|[Accessories, Sto...|    [Binders]|                0.5| 1.903115501519757|\n",
      "|[Chairs, Storage,...|    [Binders]| 0.4444444444444444|1.6916582235731172|\n",
      "|[Fasteners, Stora...|      [Paper]|                0.6| 2.523425692695214|\n",
      "|[Fasteners, Stora...|    [Binders]|                0.7|2.6643617021276595|\n",
      "|[Tables, Phones, ...| [Appliances]| 0.4666666666666667|   5.1830007390983|\n",
      "|[Tables, Phones, ...|    [Binders]| 0.5333333333333333| 2.029989868287741|\n",
      "|[Tables, Art, Pho...|    [Binders]| 0.5833333333333334|2.2203014184397167|\n",
      "|[Accessories, Art...|      [Paper]| 0.4444444444444444|1.8692042168112697|\n",
      "|    [Tables, Labels]|      [Paper]| 0.5294117647058824|2.2265520817898947|\n",
      "|[Accessories, Pho...|    [Binders]|             0.4375|1.6652260638297873|\n",
      "|[Tables, Phones, ...|    [Binders]| 0.6153846153846154|  2.34229600187047|\n",
      "|[Envelopes, Phone...|    [Storage]| 0.5833333333333334|3.7605105105105103|\n",
      "|[Envelopes, Phone...|      [Paper]| 0.6666666666666666|2.8038063252169043|\n",
      "|[Chairs, Storage,...|    [Binders]|0.47058823529411764|1.7911675308421242|\n",
      "|[Tables, Accessor...|[Furnishings]|                0.5|2.8557582668187003|\n",
      "|[Tables, Applianc...|[Furnishings]|                0.6|3.4269099201824402|\n",
      "|[Labels, Furnishi...|      [Paper]|                0.4|1.6822837951301428|\n",
      "|[Appliances, Stor...|[Furnishings]|                0.4|2.2846066134549603|\n",
      "|[Appliances, Stor...|      [Paper]| 0.4666666666666667|1.9626644276518332|\n",
      "+--------------------+-------------+-------------------+------------------+\n",
      "only showing top 20 rows\n",
      "\n",
      "-RECORD 0----------------------------------------------------------------------------------------------------------------------------------------------------------------------------------------------------------------------------------------------------------------------------\n",
      " Order ID          | CA-2014-114335                                                                                                                                                                                                                                                  \n",
      " Sub-Category List | [Furnishings]                                                                                                                                                                                                                                                   \n",
      " Product Name List | [Deflect-o DuraMat Antistatic Studded Beveled Mat for Medium Pile Carpeting]                                                                                                                                                                                    \n",
      " prediction        | []                                                                                                                                                                                                                                                              \n",
      "-RECORD 1----------------------------------------------------------------------------------------------------------------------------------------------------------------------------------------------------------------------------------------------------------------------------\n",
      " Order ID          | CA-2014-120670                                                                                                                                                                                                                                                  \n",
      " Sub-Category List | [Accessories]                                                                                                                                                                                                                                                   \n",
      " Product Name List | [Razer Kraken 7.1 Surround Sound Over Ear USB Gaming Headset]                                                                                                                                                                                                   \n",
      " prediction        | []                                                                                                                                                                                                                                                              \n",
      "-RECORD 2----------------------------------------------------------------------------------------------------------------------------------------------------------------------------------------------------------------------------------------------------------------------------\n",
      " Order ID          | CA-2014-141838                                                                                                                                                                                                                                                  \n",
      " Sub-Category List | [Phones, Binders, Art]                                                                                                                                                                                                                                          \n",
      " Product Name List | [Newell 308, Wilson Jones Leather-Like Binders with DublLock Round Rings, Griffin GC17055 Auxiliary Audio Cable]                                                                                                                                                \n",
      " prediction        | []                                                                                                                                                                                                                                                              \n",
      "-RECORD 3----------------------------------------------------------------------------------------------------------------------------------------------------------------------------------------------------------------------------------------------------------------------------\n",
      " Order ID          | CA-2015-115798                                                                                                                                                                                                                                                  \n",
      " Sub-Category List | [Bookcases, Phones, Paper]                                                                                                                                                                                                                                      \n",
      " Product Name List | [BlackBerry Q10, Adams Telephone Message Books, 5 1/4� x 11�, Bestar Classic Bookcase, Innergie mMini Combo Duo USB Travel Charging Kit]                                                                                                                        \n",
      " prediction        | [Storage]                                                                                                                                                                                                                                                       \n",
      "-RECORD 4----------------------------------------------------------------------------------------------------------------------------------------------------------------------------------------------------------------------------------------------------------------------------\n",
      " Order ID          | CA-2015-116750                                                                                                                                                                                                                                                  \n",
      " Sub-Category List | [Binders, Furnishings]                                                                                                                                                                                                                                          \n",
      " Product Name List | [Stackable Trays, Wilson Jones Turn Tabs Binder Tool for Ring Binders]                                                                                                                                                                                          \n",
      " prediction        | []                                                                                                                                                                                                                                                              \n",
      "-RECORD 5----------------------------------------------------------------------------------------------------------------------------------------------------------------------------------------------------------------------------------------------------------------------------\n",
      " Order ID          | CA-2015-128083                                                                                                                                                                                                                                                  \n",
      " Sub-Category List | [Envelopes, Furnishings]                                                                                                                                                                                                                                        \n",
      " Product Name List | [Convenience Packs of Business Envelopes, Eldon Expressions Desk Accessory, Wood Pencil Holder, Oak, Acrylic Self-Standing Desk Frames]                                                                                                                         \n",
      " prediction        | []                                                                                                                                                                                                                                                              \n",
      "-RECORD 6----------------------------------------------------------------------------------------------------------------------------------------------------------------------------------------------------------------------------------------------------------------------------\n",
      " Order ID          | CA-2015-144253                                                                                                                                                                                                                                                  \n",
      " Sub-Category List | [Furnishings]                                                                                                                                                                                                                                                   \n",
      " Product Name List | [Electrix 20W Halogen Replacement Bulb for Zoom-In Desk Lamp]                                                                                                                                                                                                   \n",
      " prediction        | []                                                                                                                                                                                                                                                              \n",
      "-RECORD 7----------------------------------------------------------------------------------------------------------------------------------------------------------------------------------------------------------------------------------------------------------------------------\n",
      " Order ID          | CA-2015-161830                                                                                                                                                                                                                                                  \n",
      " Sub-Category List | [Binders, Art]                                                                                                                                                                                                                                                  \n",
      " Product Name List | [BOSTON Model 1800 Electric Pencil Sharpeners, Putty/Woodgrain, Avery Hole Reinforcements]                                                                                                                                                                      \n",
      " prediction        | []                                                                                                                                                                                                                                                              \n",
      "-RECORD 8----------------------------------------------------------------------------------------------------------------------------------------------------------------------------------------------------------------------------------------------------------------------------\n",
      " Order ID          | CA-2015-166604                                                                                                                                                                                                                                                  \n",
      " Sub-Category List | [Envelopes]                                                                                                                                                                                                                                                     \n",
      " Product Name List | [Wausau Papers Astrobrights Colored Envelopes]                                                                                                                                                                                                                  \n",
      " prediction        | []                                                                                                                                                                                                                                                              \n",
      "-RECORD 9----------------------------------------------------------------------------------------------------------------------------------------------------------------------------------------------------------------------------------------------------------------------------\n",
      " Order ID          | CA-2016-124016                                                                                                                                                                                                                                                  \n",
      " Sub-Category List | [Paper, Binders, Furnishings]                                                                                                                                                                                                                                   \n",
      " Product Name List | [Xerox 1970, Eldon 400 Class Desk Accessories, Black Carbon, Fellowes Black Plastic Comb Bindings]                                                                                                                                                              \n",
      " prediction        | []                                                                                                                                                                                                                                                              \n",
      "-RECORD 10---------------------------------------------------------------------------------------------------------------------------------------------------------------------------------------------------------------------------------------------------------------------------\n",
      " Order ID          | CA-2016-134936                                                                                                                                                                                                                                                  \n",
      " Sub-Category List | [Binders, Tables]                                                                                                                                                                                                                                               \n",
      " Product Name List | [SAFCO PlanMaster Boards, 60w x 37-1/2d, White Melamine, Wilson Jones Clip & Carry Folder Binder Tool for Ring Binders, Clear, Cardinal Slant-D Ring Binder, Heavy Gauge Vinyl]                                                                                 \n",
      " prediction        | []                                                                                                                                                                                                                                                              \n",
      "-RECORD 11---------------------------------------------------------------------------------------------------------------------------------------------------------------------------------------------------------------------------------------------------------------------------\n",
      " Order ID          | CA-2016-135776                                                                                                                                                                                                                                                  \n",
      " Sub-Category List | [Envelopes, Paper, Storage, Art]                                                                                                                                                                                                                                \n",
      " Product Name List | [Newell 317, Computer Printout Paper with Letter-Trim Perforations, Sanford EarthWrite Recycled Pencils, Medium Soft, #2, SAFCO Boltless Steel Shelving, Xerox 1911, Staple envelope, Tennsco Snap-Together Open Shelving Units, Starter Sets and Add-On Units] \n",
      " prediction        | [Phones]                                                                                                                                                                                                                                                        \n",
      "-RECORD 12---------------------------------------------------------------------------------------------------------------------------------------------------------------------------------------------------------------------------------------------------------------------------\n",
      " Order ID          | CA-2016-145730                                                                                                                                                                                                                                                  \n",
      " Sub-Category List | [Machines, Envelopes, Tables]                                                                                                                                                                                                                                   \n",
      " Product Name List | [\"Office Impressions End Table, 20-1/2\"\"H x 24\"\"W x 20\"\"D\", Canon PC170 Desktop Personal Copier, White Envelopes, White Envelopes with Clear Poly Window]                                                                                                       \n",
      " prediction        | []                                                                                                                                                                                                                                                              \n",
      "-RECORD 13---------------------------------------------------------------------------------------------------------------------------------------------------------------------------------------------------------------------------------------------------------------------------\n",
      " Order ID          | CA-2016-149223                                                                                                                                                                                                                                                  \n",
      " Sub-Category List | [Appliances]                                                                                                                                                                                                                                                    \n",
      " Product Name List | [Fellowes Basic Home/Office Series Surge Protectors]                                                                                                                                                                                                            \n",
      " prediction        | []                                                                                                                                                                                                                                                              \n",
      "-RECORD 14---------------------------------------------------------------------------------------------------------------------------------------------------------------------------------------------------------------------------------------------------------------------------\n",
      " Order ID          | CA-2016-149783                                                                                                                                                                                                                                                  \n",
      " Sub-Category List | [Paper, Appliances, Art]                                                                                                                                                                                                                                        \n",
      " Product Name List | [\"RSVP Cards & Envelopes, Blank White, 8-1/2\"\" X 11\"\", Belkin 5 Outlet SurgeMaster Power Centers, Prismacolor Color Pencil Set]                                                                                                                                 \n",
      " prediction        | [Binders]                                                                                                                                                                                                                                                       \n",
      "-RECORD 15---------------------------------------------------------------------------------------------------------------------------------------------------------------------------------------------------------------------------------------------------------------------------\n",
      " Order ID          | CA-2017-103520                                                                                                                                                                                                                                                  \n",
      " Sub-Category List | [Paper]                                                                                                                                                                                                                                                         \n",
      " Product Name List | [Xerox 1899]                                                                                                                                                                                                                                                    \n",
      " prediction        | []                                                                                                                                                                                                                                                              \n",
      "-RECORD 16---------------------------------------------------------------------------------------------------------------------------------------------------------------------------------------------------------------------------------------------------------------------------\n",
      " Order ID          | CA-2017-113474                                                                                                                                                                                                                                                  \n",
      " Sub-Category List | [Envelopes]                                                                                                                                                                                                                                                     \n",
      " Product Name List | [Multimedia Mailers]                                                                                                                                                                                                                                            \n",
      " prediction        | []                                                                                                                                                                                                                                                              \n",
      "-RECORD 17---------------------------------------------------------------------------------------------------------------------------------------------------------------------------------------------------------------------------------------------------------------------------\n",
      " Order ID          | CA-2017-122994                                                                                                                                                                                                                                                  \n",
      " Sub-Category List | [Bookcases]                                                                                                                                                                                                                                                     \n",
      " Product Name List | [Bush Andora Bookcase, Maple/Graphite Gray Finish]                                                                                                                                                                                                              \n",
      " prediction        | []                                                                                                                                                                                                                                                              \n",
      "-RECORD 18---------------------------------------------------------------------------------------------------------------------------------------------------------------------------------------------------------------------------------------------------------------------------\n",
      " Order ID          | CA-2017-126221                                                                                                                                                                                                                                                  \n",
      " Sub-Category List | [Appliances]                                                                                                                                                                                                                                                    \n",
      " Product Name List | [Eureka The Boss Plus 12-Amp Hard Box Upright Vacuum, Red]                                                                                                                                                                                                      \n",
      " prediction        | []                                                                                                                                                                                                                                                              \n",
      "-RECORD 19---------------------------------------------------------------------------------------------------------------------------------------------------------------------------------------------------------------------------------------------------------------------------\n",
      " Order ID          | CA-2017-132521                                                                                                                                                                                                                                                  \n",
      " Sub-Category List | [Appliances, Binders, Storage]                                                                                                                                                                                                                                  \n",
      " Product Name List | [Belkin 8 Outlet SurgeMaster II Gold Surge Protector, Sterilite Officeware Hinged File Box, Avery Printable Repositionable Plastic Tabs]                                                                                                                        \n",
      " prediction        | [Furnishings, Paper]                                                                                                                                                                                                                                            \n",
      "only showing top 20 rows\n",
      "\n"
     ]
    }
   ],
   "source": [
    "from pyspark.ml.fpm import FPGrowth\n",
    "\n",
    "# df = spark.createDataFrame([\n",
    "#     (0, [\"1\", \"2\", \"a\"]),\n",
    "#     (1, [\"1\", \"2\", \"3\", \"a\"]),\n",
    "#     (2, [\"1\", \"2\"])\n",
    "# ], [\"id\", \"items\"])\n",
    "\n",
    "fpGrowth = FPGrowth(itemsCol=\"Sub-Category List\", minSupport=0.001, minConfidence=0.4)\n",
    "model = fpGrowth.fit(df_filtered)\n",
    "\n",
    "# Display frequent itemsets.\n",
    "model.freqItemsets.show()\n",
    "\n",
    "# Display generated association rules.\n",
    "model.associationRules.show()\n",
    "\n",
    "# transform examines the input items against all the association rules and summarize the\n",
    "# consequents as prediction\n",
    "df_output = model.transform(df_filtered)\n",
    "df_output.show(20, False, vertical=True)"
   ]
  },
  {
   "cell_type": "code",
   "execution_count": 11,
   "metadata": {
    "ExecuteTime": {
     "end_time": "2020-05-01T14:41:39.955535Z",
     "start_time": "2020-05-01T14:41:39.514202Z"
    }
   },
   "outputs": [
    {
     "name": "stdout",
     "output_type": "stream",
     "text": [
      "-RECORD 0----------------------------------------------------------------------------------------------------------------------------------------------------------------------------------------------------------------------------------------------------------------------------\n",
      " Order ID          | CA-2015-115798                                                                                                                                                                                                                                                  \n",
      " Sub-Category List | [Bookcases, Phones, Paper]                                                                                                                                                                                                                                      \n",
      " Product Name List | [BlackBerry Q10, Adams Telephone Message Books, 5 1/4� x 11�, Bestar Classic Bookcase, Innergie mMini Combo Duo USB Travel Charging Kit]                                                                                                                        \n",
      " prediction        | [Storage]                                                                                                                                                                                                                                                       \n",
      "-RECORD 1----------------------------------------------------------------------------------------------------------------------------------------------------------------------------------------------------------------------------------------------------------------------------\n",
      " Order ID          | CA-2016-135776                                                                                                                                                                                                                                                  \n",
      " Sub-Category List | [Envelopes, Paper, Storage, Art]                                                                                                                                                                                                                                \n",
      " Product Name List | [Newell 317, Computer Printout Paper with Letter-Trim Perforations, Sanford EarthWrite Recycled Pencils, Medium Soft, #2, SAFCO Boltless Steel Shelving, Xerox 1911, Staple envelope, Tennsco Snap-Together Open Shelving Units, Starter Sets and Add-On Units] \n",
      " prediction        | [Phones]                                                                                                                                                                                                                                                        \n",
      "-RECORD 2----------------------------------------------------------------------------------------------------------------------------------------------------------------------------------------------------------------------------------------------------------------------------\n",
      " Order ID          | CA-2016-149783                                                                                                                                                                                                                                                  \n",
      " Sub-Category List | [Paper, Appliances, Art]                                                                                                                                                                                                                                        \n",
      " Product Name List | [\"RSVP Cards & Envelopes, Blank White, 8-1/2\"\" X 11\"\", Belkin 5 Outlet SurgeMaster Power Centers, Prismacolor Color Pencil Set]                                                                                                                                 \n",
      " prediction        | [Binders]                                                                                                                                                                                                                                                       \n",
      "-RECORD 3----------------------------------------------------------------------------------------------------------------------------------------------------------------------------------------------------------------------------------------------------------------------------\n",
      " Order ID          | CA-2017-132521                                                                                                                                                                                                                                                  \n",
      " Sub-Category List | [Appliances, Binders, Storage]                                                                                                                                                                                                                                  \n",
      " Product Name List | [Belkin 8 Outlet SurgeMaster II Gold Surge Protector, Sterilite Officeware Hinged File Box, Avery Printable Repositionable Plastic Tabs]                                                                                                                        \n",
      " prediction        | [Furnishings, Paper]                                                                                                                                                                                                                                            \n",
      "-RECORD 4----------------------------------------------------------------------------------------------------------------------------------------------------------------------------------------------------------------------------------------------------------------------------\n",
      " Order ID          | US-2017-164147                                                                                                                                                                                                                                                  \n",
      " Sub-Category List | [Fasteners, Phones, Paper]                                                                                                                                                                                                                                      \n",
      " Product Name List | [Anker 36W 4-Port USB Wall Charger Travel Power Adapter for iPhone 5s 5c 5, Xerox 1916, Staples]                                                                                                                                                                \n",
      " prediction        | [Storage, Binders]                                                                                                                                                                                                                                              \n",
      "only showing top 5 rows\n",
      "\n"
     ]
    }
   ],
   "source": [
    "df_output.filter(F.size('prediction') > 0).show(5, False, vertical=True)"
   ]
  },
  {
   "cell_type": "code",
   "execution_count": 12,
   "metadata": {
    "ExecuteTime": {
     "end_time": "2020-05-01T14:42:09.930044Z",
     "start_time": "2020-05-01T14:42:08.688587Z"
    }
   },
   "outputs": [
    {
     "name": "stdout",
     "output_type": "stream",
     "text": [
      "+---------------------------------+------------------+\n",
      "|antecedent                       |consequent_list   |\n",
      "+---------------------------------+------------------+\n",
      "|[Fasteners, Art]                 |[Paper, Binders]  |\n",
      "|[Appliances, Chairs, Furnishings]|[Binders]         |\n",
      "|[Envelopes, Appliances]          |[Binders]         |\n",
      "|[Appliances, Chairs, Accessories]|[Binders]         |\n",
      "|[Envelopes, Phones, Paper]       |[Storage, Binders]|\n",
      "+---------------------------------+------------------+\n",
      "only showing top 5 rows\n",
      "\n"
     ]
    }
   ],
   "source": [
    "model \\\n",
    "  .associationRules \\\n",
    "  .groupBy(\"antecedent\") \\\n",
    "  .agg(F.collect_list(\"consequent\").alias(\"consequent_list\")) \\\n",
    "  .withColumn(\"consequent_list\", F.udf(lambda x: [item for sublist in x for item in sublist], ArrayType(StringType()))(F.col(\"consequent_list\"))) \\\n",
    "  .show(5, False)"
   ]
  },
  {
   "cell_type": "code",
   "execution_count": 13,
   "metadata": {
    "ExecuteTime": {
     "end_time": "2020-05-01T14:42:17.148036Z",
     "start_time": "2020-05-01T14:42:16.325470Z"
    }
   },
   "outputs": [
    {
     "name": "stdout",
     "output_type": "stream",
     "text": [
      "+--------------------------+----+\n",
      "|items                     |freq|\n",
      "+--------------------------+----+\n",
      "|[Paper, Binders]          |275 |\n",
      "|[Phones, Binders]         |199 |\n",
      "|[Storage, Binders]        |199 |\n",
      "|[Furnishings, Binders]    |198 |\n",
      "|[Storage, Paper]          |178 |\n",
      "|[Furnishings, Paper]      |177 |\n",
      "|[Phones, Paper]           |175 |\n",
      "|[Accessories, Binders]    |161 |\n",
      "|[Accessories, Paper]      |153 |\n",
      "|[Art, Paper]              |150 |\n",
      "|[Art, Binders]            |150 |\n",
      "|[Phones, Furnishings]     |148 |\n",
      "|[Storage, Furnishings]    |138 |\n",
      "|[Chairs, Paper]           |133 |\n",
      "|[Appliances, Binders]     |130 |\n",
      "|[Art, Phones]             |124 |\n",
      "|[Chairs, Binders]         |119 |\n",
      "|[Storage, Phones]         |117 |\n",
      "|[Accessories, Phones]     |116 |\n",
      "|[Accessories, Furnishings]|115 |\n",
      "+--------------------------+----+\n",
      "only showing top 20 rows\n",
      "\n"
     ]
    }
   ],
   "source": [
    "# Display frequent itemsets.\n",
    "model.freqItemsets.filter(F.size('items') > 1).orderBy('freq', ascending=False).show(20, False)"
   ]
  },
  {
   "cell_type": "code",
   "execution_count": 15,
   "metadata": {
    "ExecuteTime": {
     "end_time": "2020-05-01T14:42:28.179216Z",
     "start_time": "2020-05-01T14:42:27.154477Z"
    }
   },
   "outputs": [],
   "source": [
    "spark.stop()"
   ]
  }
 ],
 "metadata": {
  "kernelspec": {
   "display_name": "Python [conda env:jcop]",
   "language": "python",
   "name": "conda-env-jcop-py"
  },
  "language_info": {
   "codemirror_mode": {
    "name": "ipython",
    "version": 3
   },
   "file_extension": ".py",
   "mimetype": "text/x-python",
   "name": "python",
   "nbconvert_exporter": "python",
   "pygments_lexer": "ipython3",
   "version": "3.6.7"
  },
  "varInspector": {
   "cols": {
    "lenName": 16,
    "lenType": 16,
    "lenVar": 40
   },
   "kernels_config": {
    "python": {
     "delete_cmd_postfix": "",
     "delete_cmd_prefix": "del ",
     "library": "var_list.py",
     "varRefreshCmd": "print(var_dic_list())"
    },
    "r": {
     "delete_cmd_postfix": ") ",
     "delete_cmd_prefix": "rm(",
     "library": "var_list.r",
     "varRefreshCmd": "cat(var_dic_list()) "
    }
   },
   "types_to_exclude": [
    "module",
    "function",
    "builtin_function_or_method",
    "instance",
    "_Feature"
   ],
   "window_display": false
  }
 },
 "nbformat": 4,
 "nbformat_minor": 2
}
